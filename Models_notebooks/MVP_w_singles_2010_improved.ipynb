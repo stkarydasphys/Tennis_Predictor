{
 "cells": [
  {
   "cell_type": "markdown",
   "id": "0581628b-3bb2-48e0-be03-13ea9553434d",
   "metadata": {},
   "source": [
    "# Prelims"
   ]
  },
  {
   "cell_type": "code",
   "execution_count": 1,
   "id": "7bdeb7e3-ec14-49b4-be26-1498fb454f41",
   "metadata": {
    "execution": {
     "iopub.execute_input": "2025-04-29T11:50:44.383649Z",
     "iopub.status.busy": "2025-04-29T11:50:44.383343Z",
     "iopub.status.idle": "2025-04-29T11:50:46.220010Z",
     "shell.execute_reply": "2025-04-29T11:50:46.218508Z",
     "shell.execute_reply.started": "2025-04-29T11:50:44.383621Z"
    }
   },
   "outputs": [],
   "source": [
    "# -----------------MAGIC COMMANDS---------------\n",
    "# magic commands to enable autoreload for imported packages\n",
    "%load_ext autoreload\n",
    "%autoreload 2\n",
    "%matplotlib inline\n",
    "\n",
    "# -------------------IMPORTS---------------------\n",
    "# basic project related stuff\n",
    "import os\n",
    "import sys\n",
    "parent_dir = os.path.abspath(os.path.join(os.getcwd(), '..')) # setting parent_dir in sys.path\n",
    "sys.path.insert(0, parent_dir) # so that tennis_main can be found as a module\n",
    "\n",
    "# importing classes and methods\n",
    "from tennis_main.data import Tennis\n",
    "    \n",
    "# basic EDA\n",
    "# import ydata_profiling # basic EDA package\n",
    "import pandas as pd\n",
    "import numpy as np\n",
    "\n",
    "# viz\n",
    "import matplotlib.pyplot as plt\n",
    "import seaborn as sns\n",
    "from matplotlib.gridspec import GridSpec\n",
    "import plotly.express as px\n",
    "from statsmodels.graphics.gofplots import qqplot # quantile-quantile plot for gaussianity check\n",
    "\n",
    "# data preprocessing\n",
    "from sklearn.impute import SimpleImputer\n",
    "from sklearn.preprocessing import StandardScaler, RobustScaler, OneHotEncoder\n",
    "\n",
    "# model evaluation\n",
    "from sklearn.model_selection import cross_validate, cross_val_score, train_test_split, learning_curve\n",
    "from sklearn.inspection import permutation_importance\n",
    "from statsmodels.stats.outliers_influence import variance_inflation_factor as vif\n",
    "from statsmodels.tools.tools import add_constant\n",
    "\n",
    "# feature evaluation\n",
    "from sklearn.inspection import permutation_importance\n",
    "\n",
    "# model\n",
    "from sklearn.linear_model import LogisticRegression"
   ]
  },
  {
   "cell_type": "markdown",
   "id": "4a7d53a3-f7b9-4235-a863-412b0ddea4f8",
   "metadata": {},
   "source": [
    "# Data"
   ]
  },
  {
   "cell_type": "code",
   "execution_count": 2,
   "id": "5b9b4cd3-c985-4e4b-8423-eaa740c1a0b3",
   "metadata": {
    "execution": {
     "iopub.execute_input": "2025-04-29T11:50:46.221333Z",
     "iopub.status.busy": "2025-04-29T11:50:46.220904Z",
     "iopub.status.idle": "2025-04-29T11:50:47.906296Z",
     "shell.execute_reply": "2025-04-29T11:50:47.905038Z",
     "shell.execute_reply.started": "2025-04-29T11:50:46.221304Z"
    }
   },
   "outputs": [],
   "source": [
    "singles = Tennis().get_singles()\n",
    "# doubles = Tennis().get_doubles()\n",
    "players = Tennis().get_players()\n",
    "rankings = Tennis().get_rankings()"
   ]
  },
  {
   "cell_type": "markdown",
   "id": "c5cbf9a9-2864-4f08-a05a-75d9b0c7beff",
   "metadata": {},
   "source": [
    "# View of Singles dataframe"
   ]
  },
  {
   "cell_type": "code",
   "execution_count": 3,
   "id": "7668c59b-cdec-49f5-b696-e58a93ce8220",
   "metadata": {
    "execution": {
     "iopub.execute_input": "2025-04-29T11:50:47.907482Z",
     "iopub.status.busy": "2025-04-29T11:50:47.907189Z",
     "iopub.status.idle": "2025-04-29T11:50:47.939463Z",
     "shell.execute_reply": "2025-04-29T11:50:47.937365Z",
     "shell.execute_reply.started": "2025-04-29T11:50:47.907455Z"
    }
   },
   "outputs": [],
   "source": [
    "singles_2010 = singles[2010]"
   ]
  },
  {
   "cell_type": "code",
   "execution_count": 4,
   "id": "2e7702e3-d484-493f-934d-1aab2dd6d175",
   "metadata": {
    "execution": {
     "iopub.execute_input": "2025-04-29T11:50:47.941822Z",
     "iopub.status.busy": "2025-04-29T11:50:47.941460Z",
     "iopub.status.idle": "2025-04-29T11:50:47.975735Z",
     "shell.execute_reply": "2025-04-29T11:50:47.974434Z",
     "shell.execute_reply.started": "2025-04-29T11:50:47.941790Z"
    }
   },
   "outputs": [],
   "source": [
    "# singles_2010.describe().T"
   ]
  },
  {
   "cell_type": "code",
   "execution_count": 5,
   "id": "27e93c3e-6234-4a07-859d-80dc3f57299b",
   "metadata": {
    "execution": {
     "iopub.execute_input": "2025-04-29T11:50:47.977036Z",
     "iopub.status.busy": "2025-04-29T11:50:47.976718Z",
     "iopub.status.idle": "2025-04-29T11:50:48.009284Z",
     "shell.execute_reply": "2025-04-29T11:50:48.008088Z",
     "shell.execute_reply.started": "2025-04-29T11:50:47.977006Z"
    }
   },
   "outputs": [],
   "source": [
    "# singles_2010.info()"
   ]
  },
  {
   "cell_type": "markdown",
   "id": "caa22a12-99d0-4a01-a986-4687106b8916",
   "metadata": {},
   "source": [
    "# Data Cleaning"
   ]
  },
  {
   "cell_type": "markdown",
   "id": "df2a8598-45cf-40e0-bd36-6b9c5b4bd720",
   "metadata": {},
   "source": [
    "## Checking duplicates"
   ]
  },
  {
   "cell_type": "code",
   "execution_count": 6,
   "id": "6a44b9dc-1d66-4eee-a6ef-103df2813c19",
   "metadata": {
    "execution": {
     "iopub.execute_input": "2025-04-29T11:50:48.015308Z",
     "iopub.status.busy": "2025-04-29T11:50:48.013062Z",
     "iopub.status.idle": "2025-04-29T11:50:48.058804Z",
     "shell.execute_reply": "2025-04-29T11:50:48.057729Z",
     "shell.execute_reply.started": "2025-04-29T11:50:48.015266Z"
    }
   },
   "outputs": [
    {
     "data": {
      "text/plain": [
       "np.int64(0)"
      ]
     },
     "execution_count": 6,
     "metadata": {},
     "output_type": "execute_result"
    }
   ],
   "source": [
    "singles_2010.duplicated().sum()"
   ]
  },
  {
   "cell_type": "markdown",
   "id": "9b8e7392-f8d1-493c-947d-26545bbb851b",
   "metadata": {},
   "source": [
    "## Missing Data"
   ]
  },
  {
   "cell_type": "markdown",
   "id": "55bfcd11-3799-4975-8466-83f3db26d9f6",
   "metadata": {},
   "source": [
    "**A few thoughts on how to deal with missing data**\n",
    "\n",
    "- <u>Winner and Loser seed<u>\n",
    "\n",
    "Refers to the player's seeding in the tournament. Players are \"seeded\" based on their ranking to ensure that the highest ranked players do not face each other in the early rounds. There is a clear pattern in this dataframe that the loser is unseeded more often. Ths indicates that the Nan values come because of rankings. When a player is higher in the rankings than the cutoff of the tournament, they automatically qualify for it. Protected Ranking also has its identifier (PR)\n",
    "*How should we deal with these missing values (58% and 78% respectively)? It is obvious that they hold predicting power for the outcome of a match*\n",
    "\n",
    "- <u>Winner and Loser entry<u>\n",
    "\n",
    "Refers to the way the player entered the tournament, for example through qualifiers, through a wild card etc. Again, here there is a pattern that the winner has more NaN values, which may be linked to the fact that the winner has entered the tournament through their ranking possibly? This should be investigated. It potentially holds predicting power. We will assume that all the NaN values are due to the rankings and hence, filled with \"R\".\n",
    "\n",
    "- <u>Winner and Loser ht<u>\n",
    "\n",
    "Refers to the height of the player, which obviously for some people is unknown. Possibly not too important, and has less than 5% data missing, so it could be filled with the mean.\n",
    "\n",
    "- <u>Minutes, aces, double faults, etc <u>\n",
    "\n",
    "All these are match statistics that are missing. They hold important value, however, they would obviously not be available beforehand if one is to predict the outcome of a match. Hence, as a first step they can be dropped, and possibly reconsidered down the line, when player specific stats up to that point in time can be engineered. Still, as NaN values they cannot be filled with anything of real value.\n",
    "\n",
    "- <u> Winner and Loser Rank and rank points <u>\n",
    "\n",
    "Probably the missing values are values of players that were not even ranked before the tournament. There again is a pattern that losers are missing their rank more often, which supports this hypothesis. Could all be filled by a number that is bigger than the current last ranked player, to preserve order"
   ]
  },
  {
   "cell_type": "code",
   "execution_count": 7,
   "id": "fcf46f73-8885-4c67-bc78-b955dd2ceba6",
   "metadata": {
    "execution": {
     "iopub.execute_input": "2025-04-29T11:50:48.060016Z",
     "iopub.status.busy": "2025-04-29T11:50:48.059716Z",
     "iopub.status.idle": "2025-04-29T11:50:48.098578Z",
     "shell.execute_reply": "2025-04-29T11:50:48.097317Z",
     "shell.execute_reply.started": "2025-04-29T11:50:48.059988Z"
    },
    "scrolled": true
   },
   "outputs": [
    {
     "data": {
      "text/plain": [
       "tourney_id            0.000000\n",
       "tourney_name          0.000000\n",
       "surface               0.000000\n",
       "draw_size             0.000000\n",
       "tourney_level         0.000000\n",
       "tourney_date          0.000000\n",
       "match_num             0.000000\n",
       "winner_id             0.000000\n",
       "winner_seed           0.576898\n",
       "winner_entry          0.894059\n",
       "winner_name           0.000000\n",
       "winner_hand           0.000000\n",
       "winner_ht             0.020792\n",
       "winner_ioc            0.000000\n",
       "winner_age            0.000000\n",
       "loser_id              0.000000\n",
       "loser_seed            0.778548\n",
       "loser_entry           0.799670\n",
       "loser_name            0.000000\n",
       "loser_hand            0.000000\n",
       "loser_ht              0.043564\n",
       "loser_ioc             0.000000\n",
       "loser_age             0.000000\n",
       "score                 0.000000\n",
       "best_of               0.000000\n",
       "round                 0.000000\n",
       "minutes               0.113531\n",
       "w_ace                 0.113531\n",
       "w_df                  0.113531\n",
       "w_svpt                0.113531\n",
       "w_1stIn               0.113531\n",
       "w_1stWon              0.113531\n",
       "w_2ndWon              0.113531\n",
       "w_SvGms               0.113531\n",
       "w_bpSaved             0.113531\n",
       "w_bpFaced             0.113531\n",
       "l_ace                 0.113531\n",
       "l_df                  0.113531\n",
       "l_svpt                0.113531\n",
       "l_1stIn               0.113531\n",
       "l_1stWon              0.113531\n",
       "l_2ndWon              0.113531\n",
       "l_SvGms               0.113531\n",
       "l_bpSaved             0.113531\n",
       "l_bpFaced             0.113531\n",
       "winner_rank           0.006931\n",
       "winner_rank_points    0.006931\n",
       "loser_rank            0.016172\n",
       "loser_rank_points     0.016172\n",
       "dtype: float64"
      ]
     },
     "execution_count": 7,
     "metadata": {},
     "output_type": "execute_result"
    }
   ],
   "source": [
    "singles_2010.isnull().sum()/len(singles_2010)"
   ]
  },
  {
   "cell_type": "code",
   "execution_count": 8,
   "id": "2a05b062-52fb-4a3e-8098-0dea8c486b93",
   "metadata": {
    "execution": {
     "iopub.execute_input": "2025-04-29T11:50:48.099665Z",
     "iopub.status.busy": "2025-04-29T11:50:48.099376Z",
     "iopub.status.idle": "2025-04-29T11:50:48.187205Z",
     "shell.execute_reply": "2025-04-29T11:50:48.186071Z",
     "shell.execute_reply.started": "2025-04-29T11:50:48.099639Z"
    }
   },
   "outputs": [],
   "source": [
    "#########################################################\n",
    "# dropping match statistics columns as a first approach #\n",
    "#########################################################\n",
    "stats_columns = ['minutes', 'w_ace', 'w_df', 'w_svpt', 'w_1stIn', 'w_1stWon', 'w_2ndWon', 'w_SvGms', 'w_bpSaved', 'w_bpFaced', 'l_ace', 'l_df', 'l_svpt',\n",
    "                   'l_1stIn', 'l_1stWon', 'l_2ndWon', 'l_SvGms', 'l_bpSaved', 'l_bpFaced']\n",
    "\n",
    "for stat in stats_columns:\n",
    "    singles_2010.drop(columns = stat, inplace = True)\n",
    "\n",
    "\n",
    "\n",
    "################################\n",
    "# imputing player_ht with mean #\n",
    "################################\n",
    "\n",
    "# instantiating imputer\n",
    "height_age_imputer = SimpleImputer(strategy = \"median\")\n",
    "\n",
    "# fitting and transforming\n",
    "singles_2010[\"winner_ht\"], singles_2010[\"loser_ht\"] = height_age_imputer.fit_transform(singles_2010[[\"winner_ht\", \"loser_ht\"]]).T\n",
    "singles_2010[\"winner_age\"], singles_2010[\"loser_age\"] = height_age_imputer.fit_transform(singles_2010[[\"winner_age\", \"loser_age\"]]).T\n",
    "\n",
    "\n",
    "#################################################################\n",
    "# imputing player_ioc, player_hand, score and surface with mode #\n",
    "#################################################################\n",
    "\n",
    "# instantiating imputer\n",
    "hand_surface_score_ioc_imputer = SimpleImputer(strategy = \"most_frequent\")\n",
    "\n",
    "# fitting and transforming\n",
    "singles_2010[\"winner_ioc\"], singles_2010[\"loser_ioc\"] = hand_surface_score_ioc_imputer.fit_transform(singles_2010[[\"winner_ioc\", \"loser_ioc\"]]).T\n",
    "singles_2010[\"winner_hand\"], singles_2010[\"loser_hand\"] = hand_surface_score_ioc_imputer.fit_transform(singles_2010[[\"winner_hand\", \"loser_hand\"]]).T\n",
    "singles_2010[\"surface\"], singles_2010[\"score\"] = hand_surface_score_ioc_imputer.fit_transform(singles_2010[[\"surface\", \"score\"]]).T\n",
    "\n",
    "\n",
    "##################################\n",
    "# imputing player_entry with \"R\" #\n",
    "##################################\n",
    "\n",
    "# instantiating imputer\n",
    "entry_imputer = SimpleImputer(strategy = \"constant\", fill_value = \"R\")\n",
    "\n",
    "# fitting and transforming\n",
    "singles_2010[\"winner_entry\"], singles_2010[\"loser_entry\"] = entry_imputer.fit_transform(singles_2010[[\"winner_entry\", \"loser_entry\"]]).T\n",
    "\n",
    "\n",
    "\n",
    "###########################################################################################\n",
    "# filling player_rank with a rank that is greater than the greatest rank in the dataframe #\n",
    "###########################################################################################\n",
    "\n",
    "if not (singles_2010[\"winner_rank\"].isna().sum() + singles_2010[\"loser_rank\"].isna().sum()):\n",
    "    max_rank = max(singles_2010[\"winner_rank\"].max(), singles_2010[\"loser_rank\"].max())\n",
    "\n",
    "    # instantiating imputer\n",
    "    rank_imputer = SimpleImputer(strategy = \"constant\", fill_value = max_rank + 1, keep_empty_features = True)\n",
    "\n",
    "    # fitting and transforming\n",
    "    singles_2010[\"winner_rank\"], singles_2010[\"loser_rank\"] = rank_imputer.fit_transform(singles_2010[[\"winner_rank\", \"loser_rank\"]]).T\n",
    "else:\n",
    "    singles_2010[\"winner_rank\"] = singles_2010[\"winner_rank\"].fillna(value = 1)\n",
    "    singles_2010[\"loser_rank\"] = singles_2010[\"loser_rank\"].fillna(value = 1)\n",
    "\n",
    "##############################################\n",
    "# filling unranked player rank points with 0 #\n",
    "##############################################\n",
    "\n",
    "# instantiating imputer\n",
    "rank_point_imputer = SimpleImputer(strategy = \"constant\", fill_value = 0)\n",
    "\n",
    "# fitting and transforming\n",
    "singles_2010[\"winner_rank_points\"], singles_2010[\"loser_rank_points\"] = \\\n",
    "                rank_point_imputer.fit_transform(singles_2010[[\"winner_rank_points\", \"loser_rank_points\"]]).T"
   ]
  },
  {
   "cell_type": "markdown",
   "id": "7cdf3606-25f8-42d5-a248-52baeff83cec",
   "metadata": {},
   "source": [
    "### Dealing with player seed"
   ]
  },
  {
   "cell_type": "markdown",
   "id": "f4958a58-7b2b-4e0d-b47b-d4fa8ed1110b",
   "metadata": {},
   "source": [
    "We create a binary column to see if they were actually seeded, and for the ones that weren't, we fill it with their rank."
   ]
  },
  {
   "cell_type": "code",
   "execution_count": 9,
   "id": "fc8cb6c5-648c-4d75-887b-8c756f968437",
   "metadata": {
    "execution": {
     "iopub.execute_input": "2025-04-29T11:50:48.188482Z",
     "iopub.status.busy": "2025-04-29T11:50:48.188154Z",
     "iopub.status.idle": "2025-04-29T11:50:48.307863Z",
     "shell.execute_reply": "2025-04-29T11:50:48.306750Z",
     "shell.execute_reply.started": "2025-04-29T11:50:48.188429Z"
    }
   },
   "outputs": [],
   "source": [
    "# creating binary column\n",
    "\n",
    "singles_2010[\"winner_is_seeded\"] = singles_2010[\"winner_seed\"].apply(lambda x: 1 if pd.notna(x) else 0)\n",
    "singles_2010[\"loser_is_seeded\"] = singles_2010[\"loser_seed\"].apply(lambda x: 1 if pd.notna(x) else 0)\n",
    "\n",
    "# filling seed with rank\n",
    "\n",
    "singles_2010[\"winner_seed\"] = singles_2010.apply(lambda row: row[\"winner_rank\"] if pd.isna(row[\"winner_seed\"]) else row[\"winner_seed\"], axis=1)\n",
    "singles_2010[\"loser_seed\"] = singles_2010.apply(lambda row: row[\"loser_rank\"] if pd.isna(row[\"loser_seed\"]) else row[\"loser_seed\"], axis = 1)"
   ]
  },
  {
   "cell_type": "code",
   "execution_count": 10,
   "id": "8f68a92a-25fb-4179-abc5-0271bbeb13ff",
   "metadata": {
    "execution": {
     "iopub.execute_input": "2025-04-29T11:50:48.309126Z",
     "iopub.status.busy": "2025-04-29T11:50:48.308791Z",
     "iopub.status.idle": "2025-04-29T11:50:48.350373Z",
     "shell.execute_reply": "2025-04-29T11:50:48.349094Z",
     "shell.execute_reply.started": "2025-04-29T11:50:48.309096Z"
    }
   },
   "outputs": [
    {
     "data": {
      "text/plain": [
       "tourney_id            0.0\n",
       "tourney_name          0.0\n",
       "surface               0.0\n",
       "draw_size             0.0\n",
       "tourney_level         0.0\n",
       "tourney_date          0.0\n",
       "match_num             0.0\n",
       "winner_id             0.0\n",
       "winner_seed           0.0\n",
       "winner_entry          0.0\n",
       "winner_name           0.0\n",
       "winner_hand           0.0\n",
       "winner_ht             0.0\n",
       "winner_ioc            0.0\n",
       "winner_age            0.0\n",
       "loser_id              0.0\n",
       "loser_seed            0.0\n",
       "loser_entry           0.0\n",
       "loser_name            0.0\n",
       "loser_hand            0.0\n",
       "loser_ht              0.0\n",
       "loser_ioc             0.0\n",
       "loser_age             0.0\n",
       "score                 0.0\n",
       "best_of               0.0\n",
       "round                 0.0\n",
       "winner_rank           0.0\n",
       "winner_rank_points    0.0\n",
       "loser_rank            0.0\n",
       "loser_rank_points     0.0\n",
       "winner_is_seeded      0.0\n",
       "loser_is_seeded       0.0\n",
       "dtype: float64"
      ]
     },
     "execution_count": 10,
     "metadata": {},
     "output_type": "execute_result"
    }
   ],
   "source": [
    "# sanity check\n",
    "singles_2010.isnull().sum()/len(singles_2010)"
   ]
  },
  {
   "cell_type": "code",
   "execution_count": 11,
   "id": "87552380-be40-44a6-b143-4501d5a51e93",
   "metadata": {
    "execution": {
     "iopub.execute_input": "2025-04-29T11:50:48.352802Z",
     "iopub.status.busy": "2025-04-29T11:50:48.351616Z",
     "iopub.status.idle": "2025-04-29T11:50:48.411505Z",
     "shell.execute_reply": "2025-04-29T11:50:48.410401Z",
     "shell.execute_reply.started": "2025-04-29T11:50:48.352748Z"
    }
   },
   "outputs": [
    {
     "data": {
      "text/html": [
       "<div>\n",
       "<style scoped>\n",
       "    .dataframe tbody tr th:only-of-type {\n",
       "        vertical-align: middle;\n",
       "    }\n",
       "\n",
       "    .dataframe tbody tr th {\n",
       "        vertical-align: top;\n",
       "    }\n",
       "\n",
       "    .dataframe thead th {\n",
       "        text-align: right;\n",
       "    }\n",
       "</style>\n",
       "<table border=\"1\" class=\"dataframe\">\n",
       "  <thead>\n",
       "    <tr style=\"text-align: right;\">\n",
       "      <th></th>\n",
       "      <th>tourney_id</th>\n",
       "      <th>tourney_name</th>\n",
       "      <th>surface</th>\n",
       "      <th>draw_size</th>\n",
       "      <th>tourney_level</th>\n",
       "      <th>tourney_date</th>\n",
       "      <th>match_num</th>\n",
       "      <th>winner_id</th>\n",
       "      <th>winner_seed</th>\n",
       "      <th>winner_entry</th>\n",
       "      <th>...</th>\n",
       "      <th>loser_age</th>\n",
       "      <th>score</th>\n",
       "      <th>best_of</th>\n",
       "      <th>round</th>\n",
       "      <th>winner_rank</th>\n",
       "      <th>winner_rank_points</th>\n",
       "      <th>loser_rank</th>\n",
       "      <th>loser_rank_points</th>\n",
       "      <th>winner_is_seeded</th>\n",
       "      <th>loser_is_seeded</th>\n",
       "    </tr>\n",
       "  </thead>\n",
       "  <tbody>\n",
       "    <tr>\n",
       "      <th>2509</th>\n",
       "      <td>2010-D077</td>\n",
       "      <td>Davis Cup WG PO: GER vs RSA</td>\n",
       "      <td>Clay</td>\n",
       "      <td>4</td>\n",
       "      <td>D</td>\n",
       "      <td>20100917</td>\n",
       "      <td>4</td>\n",
       "      <td>104676</td>\n",
       "      <td>101.0</td>\n",
       "      <td>R</td>\n",
       "      <td>...</td>\n",
       "      <td>26.6</td>\n",
       "      <td>7-5 6-2</td>\n",
       "      <td>3</td>\n",
       "      <td>RR</td>\n",
       "      <td>101.0</td>\n",
       "      <td>515.0</td>\n",
       "      <td>159.0</td>\n",
       "      <td>300.0</td>\n",
       "      <td>0</td>\n",
       "      <td>0</td>\n",
       "    </tr>\n",
       "    <tr>\n",
       "      <th>1247</th>\n",
       "      <td>2010-468</td>\n",
       "      <td>Estoril</td>\n",
       "      <td>Clay</td>\n",
       "      <td>28</td>\n",
       "      <td>A</td>\n",
       "      <td>20100503</td>\n",
       "      <td>3</td>\n",
       "      <td>104268</td>\n",
       "      <td>70.0</td>\n",
       "      <td>R</td>\n",
       "      <td>...</td>\n",
       "      <td>30.6</td>\n",
       "      <td>6-4 7-6(4)</td>\n",
       "      <td>3</td>\n",
       "      <td>R32</td>\n",
       "      <td>70.0</td>\n",
       "      <td>694.0</td>\n",
       "      <td>54.0</td>\n",
       "      <td>839.0</td>\n",
       "      <td>0</td>\n",
       "      <td>1</td>\n",
       "    </tr>\n",
       "    <tr>\n",
       "      <th>69</th>\n",
       "      <td>2010-451</td>\n",
       "      <td>Doha</td>\n",
       "      <td>Hard</td>\n",
       "      <td>32</td>\n",
       "      <td>A</td>\n",
       "      <td>20100104</td>\n",
       "      <td>8</td>\n",
       "      <td>103333</td>\n",
       "      <td>7.0</td>\n",
       "      <td>R</td>\n",
       "      <td>...</td>\n",
       "      <td>22.6</td>\n",
       "      <td>6-4 6-4</td>\n",
       "      <td>3</td>\n",
       "      <td>R32</td>\n",
       "      <td>37.0</td>\n",
       "      <td>1015.0</td>\n",
       "      <td>54.0</td>\n",
       "      <td>790.0</td>\n",
       "      <td>1</td>\n",
       "      <td>0</td>\n",
       "    </tr>\n",
       "    <tr>\n",
       "      <th>920</th>\n",
       "      <td>2010-403</td>\n",
       "      <td>Miami Masters</td>\n",
       "      <td>Hard</td>\n",
       "      <td>96</td>\n",
       "      <td>M</td>\n",
       "      <td>20100324</td>\n",
       "      <td>48</td>\n",
       "      <td>104417</td>\n",
       "      <td>5.0</td>\n",
       "      <td>R</td>\n",
       "      <td>...</td>\n",
       "      <td>30.5</td>\n",
       "      <td>7-6(5) 6-0</td>\n",
       "      <td>3</td>\n",
       "      <td>R64</td>\n",
       "      <td>7.0</td>\n",
       "      <td>4245.0</td>\n",
       "      <td>75.0</td>\n",
       "      <td>627.0</td>\n",
       "      <td>1</td>\n",
       "      <td>0</td>\n",
       "    </tr>\n",
       "    <tr>\n",
       "      <th>2627</th>\n",
       "      <td>2010-6003</td>\n",
       "      <td>Kuala Lumpur</td>\n",
       "      <td>Hard</td>\n",
       "      <td>28</td>\n",
       "      <td>A</td>\n",
       "      <td>20100927</td>\n",
       "      <td>12</td>\n",
       "      <td>104214</td>\n",
       "      <td>102.0</td>\n",
       "      <td>Q</td>\n",
       "      <td>...</td>\n",
       "      <td>26.0</td>\n",
       "      <td>6-1 6-4</td>\n",
       "      <td>3</td>\n",
       "      <td>R32</td>\n",
       "      <td>102.0</td>\n",
       "      <td>540.0</td>\n",
       "      <td>104.0</td>\n",
       "      <td>534.0</td>\n",
       "      <td>0</td>\n",
       "      <td>0</td>\n",
       "    </tr>\n",
       "    <tr>\n",
       "      <th>1767</th>\n",
       "      <td>2010-540</td>\n",
       "      <td>Wimbledon</td>\n",
       "      <td>Grass</td>\n",
       "      <td>128</td>\n",
       "      <td>G</td>\n",
       "      <td>20100621</td>\n",
       "      <td>97</td>\n",
       "      <td>103819</td>\n",
       "      <td>1.0</td>\n",
       "      <td>R</td>\n",
       "      <td>...</td>\n",
       "      <td>32.5</td>\n",
       "      <td>6-2 6-4 6-2</td>\n",
       "      <td>5</td>\n",
       "      <td>R32</td>\n",
       "      <td>2.0</td>\n",
       "      <td>8525.0</td>\n",
       "      <td>86.0</td>\n",
       "      <td>620.0</td>\n",
       "      <td>1</td>\n",
       "      <td>0</td>\n",
       "    </tr>\n",
       "    <tr>\n",
       "      <th>758</th>\n",
       "      <td>2010-D010</td>\n",
       "      <td>Davis Cup WG R1: FRA vs GER</td>\n",
       "      <td>Hard</td>\n",
       "      <td>4</td>\n",
       "      <td>D</td>\n",
       "      <td>20100305</td>\n",
       "      <td>1</td>\n",
       "      <td>104792</td>\n",
       "      <td>15.0</td>\n",
       "      <td>R</td>\n",
       "      <td>...</td>\n",
       "      <td>26.3</td>\n",
       "      <td>6-1 6-4 7-6(5)</td>\n",
       "      <td>5</td>\n",
       "      <td>RR</td>\n",
       "      <td>15.0</td>\n",
       "      <td>2130.0</td>\n",
       "      <td>30.0</td>\n",
       "      <td>1305.0</td>\n",
       "      <td>0</td>\n",
       "      <td>0</td>\n",
       "    </tr>\n",
       "    <tr>\n",
       "      <th>646</th>\n",
       "      <td>2010-D019</td>\n",
       "      <td>Davis Cup G1 R1: CHN vs UZB</td>\n",
       "      <td>Hard</td>\n",
       "      <td>4</td>\n",
       "      <td>D</td>\n",
       "      <td>20100305</td>\n",
       "      <td>1</td>\n",
       "      <td>104797</td>\n",
       "      <td>76.0</td>\n",
       "      <td>R</td>\n",
       "      <td>...</td>\n",
       "      <td>18.4</td>\n",
       "      <td>2-6 6-3 7-5 6-4</td>\n",
       "      <td>5</td>\n",
       "      <td>RR</td>\n",
       "      <td>76.0</td>\n",
       "      <td>621.0</td>\n",
       "      <td>670.0</td>\n",
       "      <td>27.0</td>\n",
       "      <td>0</td>\n",
       "      <td>0</td>\n",
       "    </tr>\n",
       "    <tr>\n",
       "      <th>71</th>\n",
       "      <td>2010-451</td>\n",
       "      <td>Doha</td>\n",
       "      <td>Hard</td>\n",
       "      <td>32</td>\n",
       "      <td>A</td>\n",
       "      <td>20100104</td>\n",
       "      <td>10</td>\n",
       "      <td>103694</td>\n",
       "      <td>57.0</td>\n",
       "      <td>R</td>\n",
       "      <td>...</td>\n",
       "      <td>19.0</td>\n",
       "      <td>6-1 6-0</td>\n",
       "      <td>3</td>\n",
       "      <td>R32</td>\n",
       "      <td>57.0</td>\n",
       "      <td>757.0</td>\n",
       "      <td>1.0</td>\n",
       "      <td>0.0</td>\n",
       "      <td>0</td>\n",
       "      <td>0</td>\n",
       "    </tr>\n",
       "    <tr>\n",
       "      <th>483</th>\n",
       "      <td>2010-506</td>\n",
       "      <td>Buenos Aires</td>\n",
       "      <td>Clay</td>\n",
       "      <td>32</td>\n",
       "      <td>A</td>\n",
       "      <td>20100215</td>\n",
       "      <td>24</td>\n",
       "      <td>103507</td>\n",
       "      <td>2.0</td>\n",
       "      <td>R</td>\n",
       "      <td>...</td>\n",
       "      <td>31.6</td>\n",
       "      <td>6-2 6-4</td>\n",
       "      <td>3</td>\n",
       "      <td>R16</td>\n",
       "      <td>22.0</td>\n",
       "      <td>1760.0</td>\n",
       "      <td>86.0</td>\n",
       "      <td>565.0</td>\n",
       "      <td>1</td>\n",
       "      <td>0</td>\n",
       "    </tr>\n",
       "  </tbody>\n",
       "</table>\n",
       "<p>10 rows × 32 columns</p>\n",
       "</div>"
      ],
      "text/plain": [
       "     tourney_id                 tourney_name surface  draw_size tourney_level  \\\n",
       "2509  2010-D077  Davis Cup WG PO: GER vs RSA    Clay          4             D   \n",
       "1247   2010-468                      Estoril    Clay         28             A   \n",
       "69     2010-451                         Doha    Hard         32             A   \n",
       "920    2010-403                Miami Masters    Hard         96             M   \n",
       "2627  2010-6003                 Kuala Lumpur    Hard         28             A   \n",
       "1767   2010-540                    Wimbledon   Grass        128             G   \n",
       "758   2010-D010  Davis Cup WG R1: FRA vs GER    Hard          4             D   \n",
       "646   2010-D019  Davis Cup G1 R1: CHN vs UZB    Hard          4             D   \n",
       "71     2010-451                         Doha    Hard         32             A   \n",
       "483    2010-506                 Buenos Aires    Clay         32             A   \n",
       "\n",
       "      tourney_date  match_num  winner_id  winner_seed winner_entry  ...  \\\n",
       "2509      20100917          4     104676        101.0            R  ...   \n",
       "1247      20100503          3     104268         70.0            R  ...   \n",
       "69        20100104          8     103333          7.0            R  ...   \n",
       "920       20100324         48     104417          5.0            R  ...   \n",
       "2627      20100927         12     104214        102.0            Q  ...   \n",
       "1767      20100621         97     103819          1.0            R  ...   \n",
       "758       20100305          1     104792         15.0            R  ...   \n",
       "646       20100305          1     104797         76.0            R  ...   \n",
       "71        20100104         10     103694         57.0            R  ...   \n",
       "483       20100215         24     103507          2.0            R  ...   \n",
       "\n",
       "     loser_age            score  best_of round  winner_rank  \\\n",
       "2509      26.6          7-5 6-2        3    RR        101.0   \n",
       "1247      30.6       6-4 7-6(4)        3   R32         70.0   \n",
       "69        22.6          6-4 6-4        3   R32         37.0   \n",
       "920       30.5       7-6(5) 6-0        3   R64          7.0   \n",
       "2627      26.0          6-1 6-4        3   R32        102.0   \n",
       "1767      32.5      6-2 6-4 6-2        5   R32          2.0   \n",
       "758       26.3   6-1 6-4 7-6(5)        5    RR         15.0   \n",
       "646       18.4  2-6 6-3 7-5 6-4        5    RR         76.0   \n",
       "71        19.0          6-1 6-0        3   R32         57.0   \n",
       "483       31.6          6-2 6-4        3   R16         22.0   \n",
       "\n",
       "      winner_rank_points  loser_rank loser_rank_points winner_is_seeded  \\\n",
       "2509               515.0       159.0             300.0                0   \n",
       "1247               694.0        54.0             839.0                0   \n",
       "69                1015.0        54.0             790.0                1   \n",
       "920               4245.0        75.0             627.0                1   \n",
       "2627               540.0       104.0             534.0                0   \n",
       "1767              8525.0        86.0             620.0                1   \n",
       "758               2130.0        30.0            1305.0                0   \n",
       "646                621.0       670.0              27.0                0   \n",
       "71                 757.0         1.0               0.0                0   \n",
       "483               1760.0        86.0             565.0                1   \n",
       "\n",
       "     loser_is_seeded  \n",
       "2509               0  \n",
       "1247               1  \n",
       "69                 0  \n",
       "920                0  \n",
       "2627               0  \n",
       "1767               0  \n",
       "758                0  \n",
       "646                0  \n",
       "71                 0  \n",
       "483                0  \n",
       "\n",
       "[10 rows x 32 columns]"
      ]
     },
     "execution_count": 11,
     "metadata": {},
     "output_type": "execute_result"
    }
   ],
   "source": [
    "singles_2010.sample(10)"
   ]
  },
  {
   "cell_type": "markdown",
   "id": "39ac98ec-152a-45bb-bd23-48ecc7ccbf40",
   "metadata": {},
   "source": [
    "# Engineering new features, \"anonymizing\" winner and creating target"
   ]
  },
  {
   "cell_type": "markdown",
   "id": "dc40d05d-7863-4d6a-8d98-e5f656d14142",
   "metadata": {
    "execution": {
     "iopub.execute_input": "2025-04-08T11:49:04.457075Z",
     "iopub.status.busy": "2025-04-08T11:49:04.456497Z",
     "iopub.status.idle": "2025-04-08T11:49:04.489137Z",
     "shell.execute_reply": "2025-04-08T11:49:04.487116Z",
     "shell.execute_reply.started": "2025-04-08T11:49:04.457027Z"
    }
   },
   "source": [
    "We will now engineer the dataframe so that it has players as player A or player B and have a separate column for the winner, which will be the target. Player A and player B rows will be randomly interchanged so that player A is not always the winner.\n",
    "\n",
    "Moreover, we will engineer some new features to be included in the new MVP"
   ]
  },
  {
   "cell_type": "markdown",
   "id": "c294eff4-4d80-434c-b475-07deb5caea87",
   "metadata": {},
   "source": [
    "## Renaming and shuffling columns (to anonymize the winner)"
   ]
  },
  {
   "cell_type": "code",
   "execution_count": 12,
   "id": "fcb05d01-e3c9-4d27-bf81-79cb29bf9eb0",
   "metadata": {
    "execution": {
     "iopub.execute_input": "2025-04-29T11:50:48.413182Z",
     "iopub.status.busy": "2025-04-29T11:50:48.412834Z",
     "iopub.status.idle": "2025-04-29T11:50:48.507425Z",
     "shell.execute_reply": "2025-04-29T11:50:48.506289Z",
     "shell.execute_reply.started": "2025-04-29T11:50:48.413152Z"
    }
   },
   "outputs": [],
   "source": [
    "# renaming columns\n",
    "\n",
    "renamed_columns = {\n",
    "    'winner_id': 'player_A_id',\n",
    "    'winner_seed': 'player_A_seed',\n",
    "    'winner_entry': 'player_A_entry',\n",
    "    'winner_name': 'player_A_name',\n",
    "    'winner_hand': 'player_A_hand',\n",
    "    'winner_ht': 'player_A_ht',\n",
    "    'winner_ioc': 'player_A_ioc',\n",
    "    'winner_age': 'player_A_age',\n",
    "    'winner_rank': 'player_A_rank',\n",
    "    'winner_rank_points': 'player_A_rank_points',\n",
    "    'winner_is_seeded': 'player_A_is_seeded',\n",
    "    \n",
    "    'loser_id': 'player_B_id',\n",
    "    'loser_seed': 'player_B_seed',\n",
    "    'loser_entry': 'player_B_entry',\n",
    "    'loser_name': 'player_B_name',\n",
    "    'loser_hand': 'player_B_hand',\n",
    "    'loser_ht': 'player_B_ht',\n",
    "    'loser_ioc': 'player_B_ioc',\n",
    "    'loser_age': 'player_B_age',\n",
    "    'loser_rank': 'player_B_rank',\n",
    "    'loser_rank_points': 'player_B_rank_points',\n",
    "    'loser_is_seeded': 'player_B_is_seeded',\n",
    "}\n",
    "\n",
    "singles_2010 = singles_2010.rename(columns=renamed_columns)\n",
    "\n",
    "# creating winner column\n",
    "\n",
    "singles_2010[\"winner_id\"] = singles_2010['player_A_id'].copy()\n",
    "\n",
    "# randomly swapping columns so that player A is not always the winner\n",
    "\n",
    "columns_to_swap = [\n",
    "    'player_A_id', 'player_B_id',\n",
    "    'player_A_seed', 'player_B_seed',\n",
    "    'player_A_entry', 'player_B_entry',\n",
    "    'player_A_name', 'player_B_name',\n",
    "    'player_A_hand', 'player_B_hand',\n",
    "    'player_A_ht', 'player_B_ht',\n",
    "    'player_A_ioc', 'player_B_ioc',\n",
    "    'player_A_age', 'player_B_age',\n",
    "    'player_A_rank', 'player_B_rank',\n",
    "    'player_A_rank_points', 'player_B_rank_points',\n",
    "    'player_A_is_seeded', 'player_B_is_seeded',\n",
    "]\n",
    "\n",
    "# creating seed and an array of boolean values with the same length as the dataframe.\n",
    "# the boolean values decide which rows will have player A and player B swapped\n",
    "\n",
    "np.random.seed(2010)\n",
    "swap_mask = np.random.choice([True, False], size=len(singles_2010))\n",
    "\n",
    "# making the swap\n",
    "for col_A, col_B in zip(columns_to_swap[::2], columns_to_swap[1::2]):\n",
    "    singles_2010.loc[swap_mask, [col_A, col_B]] = singles_2010.loc[swap_mask, [col_B, col_A]].values\n",
    "\n",
    "# creating winner column with 0 or 1 depending on player A or B having won\n",
    "singles_2010[\"winner\"] = singles_2010.apply(lambda row: 0 if row[\"winner_id\"] == row[\"player_A_id\"] else 1, axis = 1)"
   ]
  },
  {
   "cell_type": "markdown",
   "id": "b19d1e0a-931d-46fb-9b9c-ef1178b0fe24",
   "metadata": {},
   "source": [
    "## Engineering new features"
   ]
  },
  {
   "cell_type": "markdown",
   "id": "4adce312-8ebd-4681-81c5-651afd1895ab",
   "metadata": {},
   "source": [
    "New features related to the difference in age, height, rank and rank points are created"
   ]
  },
  {
   "cell_type": "code",
   "execution_count": 13,
   "id": "6e37493b-d64d-444a-8d71-304880e8fccb",
   "metadata": {
    "execution": {
     "iopub.execute_input": "2025-04-29T11:50:48.508733Z",
     "iopub.status.busy": "2025-04-29T11:50:48.508368Z",
     "iopub.status.idle": "2025-04-29T11:50:48.545086Z",
     "shell.execute_reply": "2025-04-29T11:50:48.543868Z",
     "shell.execute_reply.started": "2025-04-29T11:50:48.508700Z"
    }
   },
   "outputs": [
    {
     "data": {
      "text/plain": [
       "Index(['tourney_id', 'tourney_name', 'surface', 'draw_size', 'tourney_level',\n",
       "       'tourney_date', 'match_num', 'player_A_id', 'player_A_seed',\n",
       "       'player_A_entry', 'player_A_name', 'player_A_hand', 'player_A_ht',\n",
       "       'player_A_ioc', 'player_A_age', 'player_B_id', 'player_B_seed',\n",
       "       'player_B_entry', 'player_B_name', 'player_B_hand', 'player_B_ht',\n",
       "       'player_B_ioc', 'player_B_age', 'score', 'best_of', 'round',\n",
       "       'player_A_rank', 'player_A_rank_points', 'player_B_rank',\n",
       "       'player_B_rank_points', 'player_A_is_seeded', 'player_B_is_seeded',\n",
       "       'winner_id', 'winner'],\n",
       "      dtype='object')"
      ]
     },
     "execution_count": 13,
     "metadata": {},
     "output_type": "execute_result"
    }
   ],
   "source": [
    "singles_2010.columns"
   ]
  },
  {
   "cell_type": "code",
   "execution_count": 14,
   "id": "e2c455b3-4a20-4862-9b87-d2c2e3c7bb15",
   "metadata": {
    "execution": {
     "iopub.execute_input": "2025-04-29T11:50:48.546207Z",
     "iopub.status.busy": "2025-04-29T11:50:48.545811Z",
     "iopub.status.idle": "2025-04-29T11:50:48.582378Z",
     "shell.execute_reply": "2025-04-29T11:50:48.581268Z",
     "shell.execute_reply.started": "2025-04-29T11:50:48.546177Z"
    }
   },
   "outputs": [],
   "source": [
    "singles_2010[\"height_diff\"] = singles_2010[\"player_A_ht\"] - singles_2010[\"player_B_ht\"]\n",
    "singles_2010[\"age_diff\"] = singles_2010[\"player_A_age\"] - singles_2010[\"player_B_age\"]\n",
    "singles_2010[\"rank_diff\"] = singles_2010[\"player_A_rank\"] - singles_2010[\"player_B_rank\"]\n",
    "singles_2010[\"rank_point_diff\"] = singles_2010[\"player_A_rank_points\"] - singles_2010[\"player_B_rank_points\"]"
   ]
  },
  {
   "cell_type": "markdown",
   "id": "8ea21bff-f55b-4a88-930c-e872e9ae876c",
   "metadata": {},
   "source": [
    "# Picking Features"
   ]
  },
  {
   "cell_type": "markdown",
   "id": "06a24693-49b8-437a-be2d-efe14da143fb",
   "metadata": {},
   "source": [
    "For the MVP we aim to create here, we drop not only the statistics of each match, as before, but a few more features to make a simple model, that is mainly based on the surface, on the player rank and seeding stats, their hand and their age."
   ]
  },
  {
   "cell_type": "code",
   "execution_count": 15,
   "id": "39146ee8-09c9-44d7-b967-0559c4d24b8a",
   "metadata": {
    "execution": {
     "iopub.execute_input": "2025-04-29T11:50:48.583755Z",
     "iopub.status.busy": "2025-04-29T11:50:48.583366Z",
     "iopub.status.idle": "2025-04-29T11:50:48.623202Z",
     "shell.execute_reply": "2025-04-29T11:50:48.621388Z",
     "shell.execute_reply.started": "2025-04-29T11:50:48.583720Z"
    }
   },
   "outputs": [
    {
     "data": {
      "text/plain": [
       "Index(['tourney_id', 'tourney_name', 'surface', 'draw_size', 'tourney_level',\n",
       "       'tourney_date', 'match_num', 'player_A_id', 'player_A_seed',\n",
       "       'player_A_entry', 'player_A_name', 'player_A_hand', 'player_A_ht',\n",
       "       'player_A_ioc', 'player_A_age', 'player_B_id', 'player_B_seed',\n",
       "       'player_B_entry', 'player_B_name', 'player_B_hand', 'player_B_ht',\n",
       "       'player_B_ioc', 'player_B_age', 'score', 'best_of', 'round',\n",
       "       'player_A_rank', 'player_A_rank_points', 'player_B_rank',\n",
       "       'player_B_rank_points', 'player_A_is_seeded', 'player_B_is_seeded',\n",
       "       'winner_id', 'winner', 'height_diff', 'age_diff', 'rank_diff',\n",
       "       'rank_point_diff'],\n",
       "      dtype='object')"
      ]
     },
     "execution_count": 15,
     "metadata": {},
     "output_type": "execute_result"
    }
   ],
   "source": [
    "singles_2010.columns"
   ]
  },
  {
   "cell_type": "code",
   "execution_count": 16,
   "id": "52520ed8-6de3-4855-ae2f-f1569d3b0f8d",
   "metadata": {
    "execution": {
     "iopub.execute_input": "2025-04-29T11:50:48.625163Z",
     "iopub.status.busy": "2025-04-29T11:50:48.624796Z",
     "iopub.status.idle": "2025-04-29T11:50:48.663514Z",
     "shell.execute_reply": "2025-04-29T11:50:48.662159Z",
     "shell.execute_reply.started": "2025-04-29T11:50:48.625132Z"
    }
   },
   "outputs": [],
   "source": [
    "drop_cols = [\"tourney_id\", \"tourney_name\", \"tourney_date\",  \"player_A_id\", \"player_B_id\", \"player_A_name\", \"player_B_name\", \n",
    "             \"player_A_ioc\", \"player_B_ioc\", \"score\", \"match_num\", \"winner_id\"]\n",
    "\n",
    "singles_2010.drop(columns = drop_cols, inplace = True)"
   ]
  },
  {
   "cell_type": "markdown",
   "id": "e7fdf4a0-1147-4b34-96b9-e558c146d25e",
   "metadata": {},
   "source": [
    "# Feature Scaling"
   ]
  },
  {
   "cell_type": "markdown",
   "id": "45ac978d-d415-427a-92fe-bfe7f2b72927",
   "metadata": {},
   "source": [
    "## Outliers and gaussianity"
   ]
  },
  {
   "cell_type": "code",
   "execution_count": 17,
   "id": "87c550cc-126f-4793-91ba-641385e1edf4",
   "metadata": {
    "execution": {
     "iopub.execute_input": "2025-04-29T11:50:48.664818Z",
     "iopub.status.busy": "2025-04-29T11:50:48.664495Z",
     "iopub.status.idle": "2025-04-29T11:50:48.701777Z",
     "shell.execute_reply": "2025-04-29T11:50:48.700253Z",
     "shell.execute_reply.started": "2025-04-29T11:50:48.664789Z"
    }
   },
   "outputs": [],
   "source": [
    "number_cols = singles_2010.select_dtypes(include = np.number).columns.to_list()"
   ]
  },
  {
   "cell_type": "code",
   "execution_count": 18,
   "id": "707c6581-d526-4360-8c56-d34c9522b944",
   "metadata": {
    "execution": {
     "iopub.execute_input": "2025-04-29T11:50:48.703710Z",
     "iopub.status.busy": "2025-04-29T11:50:48.703156Z",
     "iopub.status.idle": "2025-04-29T11:50:48.741736Z",
     "shell.execute_reply": "2025-04-29T11:50:48.740353Z",
     "shell.execute_reply.started": "2025-04-29T11:50:48.703646Z"
    },
    "scrolled": true
   },
   "outputs": [],
   "source": [
    "# for col in number_cols:\n",
    "#     fig, ax = plt.subplots(1,3,figsize=(15,5))\n",
    "\n",
    "#     ax[0].set_title(f\"Distribution of {col}\")\n",
    "#     sns.histplot(data = singles_2010, x = f\"{col}\", kde=True, ax = ax[0])\n",
    "\n",
    "#     ax[1].set_title(f\"Boxplot of {col}\")\n",
    "#     sns.boxplot(data = singles_2010, x = f\"{col}\", ax=ax[1])\n",
    "\n",
    "#     ax[2].set_title(f\"Gaussianity of {col}\")\n",
    "#     qqplot(singles_2010[f\"{col}\"],line='s',ax=ax[2]);"
   ]
  },
  {
   "cell_type": "markdown",
   "id": "fc5132a9-e580-46c7-8217-bb68b14af121",
   "metadata": {},
   "source": [
    "## Scaling"
   ]
  },
  {
   "cell_type": "code",
   "execution_count": 19,
   "id": "d459b940-9712-4f58-90cc-86d7f348fa31",
   "metadata": {
    "execution": {
     "iopub.execute_input": "2025-04-29T11:50:48.743611Z",
     "iopub.status.busy": "2025-04-29T11:50:48.743046Z",
     "iopub.status.idle": "2025-04-29T11:50:48.805124Z",
     "shell.execute_reply": "2025-04-29T11:50:48.804050Z",
     "shell.execute_reply.started": "2025-04-29T11:50:48.743573Z"
    }
   },
   "outputs": [],
   "source": [
    "# features to be StandardScaled (they have only a few outliers and are gaussianly distributed)\n",
    "feats_to_std_scale = [\"rank_point_diff\", \"rank_diff\", \"age_diff\", \"height_diff\"]\n",
    "\n",
    "# features to be RobustScaled (they have outliers and/or non gaussian distribution)\n",
    "feats_to_rob_scale = [\"player_A_rank_points\", \"player_B_rank_points\",\n",
    "                      \"player_A_rank\", \"player_B_rank\", \"player_A_ht\", \"player_B_ht\", \"player_A_seed\", \n",
    "                      \"player_B_seed\", \"draw_size\", \"player_A_age\", \"player_B_age\"]\n",
    "\n",
    "# features to be Normalized (they are ordinal and don't have outliers)\n",
    "feats_to_minmax_scale = []\n",
    "\n",
    "# all feats to be scaled, for later use\n",
    "scaled_feats = feats_to_std_scale + feats_to_rob_scale + feats_to_minmax_scale\n",
    "\n",
    "# features to drop from scaling and do encoding instead\n",
    "num_feats_to_encode = [\"best_of\"]\n",
    "\n",
    "# features and target\n",
    "cols = list(singles_2010.columns)\n",
    "cols.remove(\"winner\")\n",
    "\n",
    "X = singles_2010[cols]\n",
    "y = singles_2010[\"winner\"]\n",
    "\n",
    "# train-test split\n",
    "X_train, X_test, y_train, y_test = train_test_split(X, y, test_size=0.3, random_state=2010)\n",
    "\n",
    "# instantiating scalers\n",
    "rob_scaler = RobustScaler()\n",
    "std_scaler = StandardScaler()\n",
    "\n",
    "# fitting to train set ONLY!\n",
    "rob_scaler.fit(X_train[feats_to_rob_scale])\n",
    "std_scaler.fit(X_train[feats_to_std_scale])\n",
    "\n",
    "# transforming\n",
    "X_train[feats_to_rob_scale] = rob_scaler.transform(X_train[feats_to_rob_scale])\n",
    "X_test[feats_to_rob_scale] = rob_scaler.transform(X_test[feats_to_rob_scale])\n",
    "\n",
    "X_train[feats_to_std_scale] = std_scaler.transform(X_train[feats_to_std_scale])\n",
    "X_test[feats_to_std_scale] = std_scaler.transform(X_test[feats_to_std_scale])"
   ]
  },
  {
   "cell_type": "code",
   "execution_count": 20,
   "id": "b400bca4-33ab-4deb-a848-ad10af945b8b",
   "metadata": {
    "execution": {
     "iopub.execute_input": "2025-04-29T11:50:48.806788Z",
     "iopub.status.busy": "2025-04-29T11:50:48.806402Z",
     "iopub.status.idle": "2025-04-29T11:50:48.839117Z",
     "shell.execute_reply": "2025-04-29T11:50:48.837111Z",
     "shell.execute_reply.started": "2025-04-29T11:50:48.806756Z"
    }
   },
   "outputs": [],
   "source": [
    "# sanity check\n",
    "# X_train[feats_to_std_scale]"
   ]
  },
  {
   "cell_type": "markdown",
   "id": "811bbfeb-bc20-455f-95d4-cec70b23affa",
   "metadata": {},
   "source": [
    "# Encoding"
   ]
  },
  {
   "cell_type": "code",
   "execution_count": 21,
   "id": "fd3a8dab-dbdc-4470-80fd-9fba7aec2cef",
   "metadata": {
    "execution": {
     "iopub.execute_input": "2025-04-29T11:50:48.847306Z",
     "iopub.status.busy": "2025-04-29T11:50:48.846936Z",
     "iopub.status.idle": "2025-04-29T11:50:48.915012Z",
     "shell.execute_reply": "2025-04-29T11:50:48.912692Z",
     "shell.execute_reply.started": "2025-04-29T11:50:48.847277Z"
    }
   },
   "outputs": [],
   "source": [
    "# features to be encoded\n",
    "feats_to_encode = X_train.select_dtypes(include = \"object\").columns.to_list()\n",
    "feats_to_encode.append(\"best_of\")\n",
    "\n",
    "# instantiating encoder\n",
    "ohe = OneHotEncoder(sparse_output = False, drop = \"first\") # we drop the first category for each feature encoded, to reduce complexity\n",
    "\n",
    "# fitting to train set ONLY!\n",
    "ohe.fit(X_train[feats_to_encode])\n",
    "\n",
    "# transforming\n",
    "X_train_encoded = ohe.transform(X_train[feats_to_encode])\n",
    "X_test_encoded = ohe.transform(X_test[feats_to_encode])\n",
    "\n",
    "# converting into dataframes\n",
    "X_train_encoded_df = pd.DataFrame(X_train_encoded, columns=ohe.get_feature_names_out())\n",
    "X_test_encoded_df = pd.DataFrame(X_test_encoded, columns=ohe.get_feature_names_out())\n",
    "\n",
    "# resetting indices\n",
    "X_train.reset_index(inplace = True)\n",
    "X_test.reset_index(inplace = True)\n",
    "y_train = y_train.reset_index().drop(columns = \"index\")\n",
    "y_test = y_test.reset_index().drop(columns = \"index\")\n",
    "\n",
    "# recombining\n",
    "X_train_combined = pd.concat([X_train[scaled_feats], X_train_encoded_df], axis=1)\n",
    "X_test_combined = pd.concat([X_test[scaled_feats], X_test_encoded_df], axis=1)"
   ]
  },
  {
   "cell_type": "markdown",
   "id": "660fdc38-4548-4673-a627-ddcbef879bcd",
   "metadata": {},
   "source": [
    "# Feature Selection"
   ]
  },
  {
   "cell_type": "markdown",
   "id": "5d982363-d5d4-40a9-9006-abb008db45c2",
   "metadata": {},
   "source": [
    "## Correlation Matrix Heatmap"
   ]
  },
  {
   "cell_type": "code",
   "execution_count": 22,
   "id": "f69f774d-5e77-4ce0-8ada-d98808046db3",
   "metadata": {
    "execution": {
     "iopub.execute_input": "2025-04-29T11:50:48.918371Z",
     "iopub.status.busy": "2025-04-29T11:50:48.917300Z",
     "iopub.status.idle": "2025-04-29T11:50:49.795123Z",
     "shell.execute_reply": "2025-04-29T11:50:49.793400Z",
     "shell.execute_reply.started": "2025-04-29T11:50:48.918283Z"
    }
   },
   "outputs": [
    {
     "data": {
      "image/png": "[encoded data removed]",
      "text/plain": [
       "<Figure size 640x480 with 2 Axes>"
      ]
     },
     "metadata": {},
     "output_type": "display_data"
    }
   ],
   "source": [
    "correlation_matrix = X_train_combined.select_dtypes('number').corr()\n",
    "column_names = correlation_matrix.columns\n",
    "sns.heatmap(correlation_matrix, xticklabels=column_names, yticklabels=column_names,cmap= \"bwr\");"
   ]
  },
  {
   "cell_type": "markdown",
   "id": "306df1ae-aea4-4f07-999f-561a7b75caad",
   "metadata": {},
   "source": [
    "## Correlation Matrix"
   ]
  },
  {
   "cell_type": "code",
   "execution_count": 23,
   "id": "c5323bbd-1733-4544-99fa-43c4bcaff8b3",
   "metadata": {
    "execution": {
     "iopub.execute_input": "2025-04-29T11:50:49.796528Z",
     "iopub.status.busy": "2025-04-29T11:50:49.796172Z",
     "iopub.status.idle": "2025-04-29T11:50:49.877632Z",
     "shell.execute_reply": "2025-04-29T11:50:49.876853Z",
     "shell.execute_reply.started": "2025-04-29T11:50:49.796495Z"
    }
   },
   "outputs": [],
   "source": [
    "# converting correlation matrix into a df\n",
    "corr_df = correlation_matrix.stack().reset_index()\n",
    "\n",
    "# renaming columns\n",
    "corr_df.columns = ['feature_1','feature_2', 'correlation']\n",
    "\n",
    "# removing self-correlations\n",
    "no_self_correlation = (corr_df['feature_1'] != corr_df['feature_2'])\n",
    "corr_df = corr_df[no_self_correlation]"
   ]
  },
  {
   "cell_type": "code",
   "execution_count": 24,
   "id": "b81b3a4a-0051-41af-b9bf-477fce1637da",
   "metadata": {
    "execution": {
     "iopub.execute_input": "2025-04-29T11:50:49.879943Z",
     "iopub.status.busy": "2025-04-29T11:50:49.878863Z",
     "iopub.status.idle": "2025-04-29T11:50:49.922191Z",
     "shell.execute_reply": "2025-04-29T11:50:49.920448Z",
     "shell.execute_reply.started": "2025-04-29T11:50:49.879900Z"
    }
   },
   "outputs": [
    {
     "data": {
      "text/html": [
       "<div>\n",
       "<style scoped>\n",
       "    .dataframe tbody tr th:only-of-type {\n",
       "        vertical-align: middle;\n",
       "    }\n",
       "\n",
       "    .dataframe tbody tr th {\n",
       "        vertical-align: top;\n",
       "    }\n",
       "\n",
       "    .dataframe thead th {\n",
       "        text-align: right;\n",
       "    }\n",
       "</style>\n",
       "<table border=\"1\" class=\"dataframe\">\n",
       "  <thead>\n",
       "    <tr style=\"text-align: right;\">\n",
       "      <th></th>\n",
       "      <th>feature_1</th>\n",
       "      <th>feature_2</th>\n",
       "      <th>correlation</th>\n",
       "      <th>absolute_correlation</th>\n",
       "    </tr>\n",
       "  </thead>\n",
       "  <tbody>\n",
       "    <tr>\n",
       "      <th>250</th>\n",
       "      <td>player_A_rank</td>\n",
       "      <td>player_A_seed</td>\n",
       "      <td>0.997861</td>\n",
       "      <td>0.997861</td>\n",
       "    </tr>\n",
       "    <tr>\n",
       "      <th>406</th>\n",
       "      <td>player_A_seed</td>\n",
       "      <td>player_A_rank</td>\n",
       "      <td>0.997861</td>\n",
       "      <td>0.997861</td>\n",
       "    </tr>\n",
       "    <tr>\n",
       "      <th>447</th>\n",
       "      <td>player_B_seed</td>\n",
       "      <td>player_B_rank</td>\n",
       "      <td>0.997290</td>\n",
       "      <td>0.997290</td>\n",
       "    </tr>\n",
       "    <tr>\n",
       "      <th>291</th>\n",
       "      <td>player_B_rank</td>\n",
       "      <td>player_B_seed</td>\n",
       "      <td>0.997290</td>\n",
       "      <td>0.997290</td>\n",
       "    </tr>\n",
       "    <tr>\n",
       "      <th>1498</th>\n",
       "      <td>round_RR</td>\n",
       "      <td>tourney_level_D</td>\n",
       "      <td>0.933010</td>\n",
       "      <td>0.933010</td>\n",
       "    </tr>\n",
       "    <tr>\n",
       "      <th>757</th>\n",
       "      <td>tourney_level_D</td>\n",
       "      <td>round_RR</td>\n",
       "      <td>0.933010</td>\n",
       "      <td>0.933010</td>\n",
       "    </tr>\n",
       "    <tr>\n",
       "      <th>812</th>\n",
       "      <td>tourney_level_G</td>\n",
       "      <td>draw_size</td>\n",
       "      <td>0.861726</td>\n",
       "      <td>0.861726</td>\n",
       "    </tr>\n",
       "    <tr>\n",
       "      <th>500</th>\n",
       "      <td>draw_size</td>\n",
       "      <td>tourney_level_G</td>\n",
       "      <td>0.861726</td>\n",
       "      <td>0.861726</td>\n",
       "    </tr>\n",
       "    <tr>\n",
       "      <th>617</th>\n",
       "      <td>surface_Clay</td>\n",
       "      <td>surface_Hard</td>\n",
       "      <td>-0.802818</td>\n",
       "      <td>0.802818</td>\n",
       "    </tr>\n",
       "    <tr>\n",
       "      <th>695</th>\n",
       "      <td>surface_Hard</td>\n",
       "      <td>surface_Clay</td>\n",
       "      <td>-0.802818</td>\n",
       "      <td>0.802818</td>\n",
       "    </tr>\n",
       "  </tbody>\n",
       "</table>\n",
       "</div>"
      ],
      "text/plain": [
       "            feature_1        feature_2  correlation  absolute_correlation\n",
       "250     player_A_rank    player_A_seed     0.997861              0.997861\n",
       "406     player_A_seed    player_A_rank     0.997861              0.997861\n",
       "447     player_B_seed    player_B_rank     0.997290              0.997290\n",
       "291     player_B_rank    player_B_seed     0.997290              0.997290\n",
       "1498         round_RR  tourney_level_D     0.933010              0.933010\n",
       "757   tourney_level_D         round_RR     0.933010              0.933010\n",
       "812   tourney_level_G        draw_size     0.861726              0.861726\n",
       "500         draw_size  tourney_level_G     0.861726              0.861726\n",
       "617      surface_Clay     surface_Hard    -0.802818              0.802818\n",
       "695      surface_Hard     surface_Clay    -0.802818              0.802818"
      ]
     },
     "execution_count": 24,
     "metadata": {},
     "output_type": "execute_result"
    }
   ],
   "source": [
    "# computing absolute correlation\n",
    "corr_df['absolute_correlation'] = np.abs(corr_df['correlation'])\n",
    "\n",
    "# showing top 5 most correlated pairs of features\n",
    "corr_df.sort_values(by=\"absolute_correlation\", ascending=False).head(5*2)"
   ]
  },
  {
   "cell_type": "markdown",
   "id": "3cc5982d-f586-4fe4-bada-6f4213f7e5cc",
   "metadata": {},
   "source": [
    "## Dropping player seed and a few more correlated columns"
   ]
  },
  {
   "cell_type": "markdown",
   "id": "f55a397a-f92e-4ac1-b076-f8c66f89def0",
   "metadata": {},
   "source": [
    "The diff columns create a perfect correlation between the corresponding player features, so they must be dropped. also dropping the seed which is perfectly correlated with the rank. Dropping Clay surface because it demonstrated a very high VIF for some reason."
   ]
  },
  {
   "cell_type": "code",
   "execution_count": 25,
   "id": "ce5218f3-8159-4581-8eb9-d3b3dd07e923",
   "metadata": {
    "execution": {
     "iopub.execute_input": "2025-04-29T11:50:49.924059Z",
     "iopub.status.busy": "2025-04-29T11:50:49.923347Z",
     "iopub.status.idle": "2025-04-29T11:50:49.959963Z",
     "shell.execute_reply": "2025-04-29T11:50:49.959015Z",
     "shell.execute_reply.started": "2025-04-29T11:50:49.924006Z"
    }
   },
   "outputs": [],
   "source": [
    "X_train_combined = X_train_combined.drop(columns = [\"player_A_seed\", \"player_B_seed\", \"tourney_level_D\", \"tourney_level_G\", \"player_A_age\", \\\n",
    "                                                   \"player_A_ht\", \"player_A_rank\", \"player_A_rank_points\", \"surface_Clay\"])\n",
    "X_test_combined = X_test_combined.drop(columns = [\"player_A_seed\", \"player_B_seed\", \"tourney_level_D\", \"tourney_level_G\", \"player_A_age\", \\\n",
    "                                                   \"player_A_ht\", \"player_A_rank\", \"player_A_rank_points\", \"surface_Clay\"])"
   ]
  },
  {
   "cell_type": "markdown",
   "id": "6272742b-4c83-47bc-a9a4-d3c77a945454",
   "metadata": {},
   "source": [
    "## VIF to check for multicolinearity"
   ]
  },
  {
   "cell_type": "code",
   "execution_count": 26,
   "id": "dbc75329-08b6-48d6-82a8-cb0ae86a4384",
   "metadata": {
    "execution": {
     "iopub.execute_input": "2025-04-29T11:50:49.961643Z",
     "iopub.status.busy": "2025-04-29T11:50:49.961253Z",
     "iopub.status.idle": "2025-04-29T11:50:50.139010Z",
     "shell.execute_reply": "2025-04-29T11:50:50.137530Z",
     "shell.execute_reply.started": "2025-04-29T11:50:49.961613Z"
    }
   },
   "outputs": [
    {
     "data": {
      "text/html": [
       "<div>\n",
       "<style scoped>\n",
       "    .dataframe tbody tr th:only-of-type {\n",
       "        vertical-align: middle;\n",
       "    }\n",
       "\n",
       "    .dataframe tbody tr th {\n",
       "        vertical-align: top;\n",
       "    }\n",
       "\n",
       "    .dataframe thead th {\n",
       "        text-align: right;\n",
       "    }\n",
       "</style>\n",
       "<table border=\"1\" class=\"dataframe\">\n",
       "  <thead>\n",
       "    <tr style=\"text-align: right;\">\n",
       "      <th></th>\n",
       "      <th>features</th>\n",
       "      <th>VIF</th>\n",
       "    </tr>\n",
       "  </thead>\n",
       "  <tbody>\n",
       "    <tr>\n",
       "      <th>0</th>\n",
       "      <td>const</td>\n",
       "      <td>202.146672</td>\n",
       "    </tr>\n",
       "    <tr>\n",
       "      <th>1</th>\n",
       "      <td>rank_point_diff</td>\n",
       "      <td>2.620076</td>\n",
       "    </tr>\n",
       "    <tr>\n",
       "      <th>2</th>\n",
       "      <td>rank_diff</td>\n",
       "      <td>2.041575</td>\n",
       "    </tr>\n",
       "    <tr>\n",
       "      <th>3</th>\n",
       "      <td>age_diff</td>\n",
       "      <td>2.273282</td>\n",
       "    </tr>\n",
       "    <tr>\n",
       "      <th>4</th>\n",
       "      <td>height_diff</td>\n",
       "      <td>2.399076</td>\n",
       "    </tr>\n",
       "    <tr>\n",
       "      <th>5</th>\n",
       "      <td>player_B_rank_points</td>\n",
       "      <td>3.494354</td>\n",
       "    </tr>\n",
       "    <tr>\n",
       "      <th>6</th>\n",
       "      <td>player_B_rank</td>\n",
       "      <td>2.749638</td>\n",
       "    </tr>\n",
       "    <tr>\n",
       "      <th>7</th>\n",
       "      <td>player_B_ht</td>\n",
       "      <td>2.377515</td>\n",
       "    </tr>\n",
       "    <tr>\n",
       "      <th>8</th>\n",
       "      <td>draw_size</td>\n",
       "      <td>6.682097</td>\n",
       "    </tr>\n",
       "    <tr>\n",
       "      <th>9</th>\n",
       "      <td>player_B_age</td>\n",
       "      <td>2.316677</td>\n",
       "    </tr>\n",
       "    <tr>\n",
       "      <th>10</th>\n",
       "      <td>surface_Grass</td>\n",
       "      <td>1.275795</td>\n",
       "    </tr>\n",
       "    <tr>\n",
       "      <th>11</th>\n",
       "      <td>surface_Hard</td>\n",
       "      <td>1.205491</td>\n",
       "    </tr>\n",
       "    <tr>\n",
       "      <th>12</th>\n",
       "      <td>tourney_level_F</td>\n",
       "      <td>1.291331</td>\n",
       "    </tr>\n",
       "    <tr>\n",
       "      <th>13</th>\n",
       "      <td>tourney_level_M</td>\n",
       "      <td>1.821482</td>\n",
       "    </tr>\n",
       "    <tr>\n",
       "      <th>14</th>\n",
       "      <td>player_A_entry_Q</td>\n",
       "      <td>7.305665</td>\n",
       "    </tr>\n",
       "    <tr>\n",
       "      <th>15</th>\n",
       "      <td>player_A_entry_R</td>\n",
       "      <td>10.411041</td>\n",
       "    </tr>\n",
       "    <tr>\n",
       "      <th>16</th>\n",
       "      <td>player_A_entry_WC</td>\n",
       "      <td>4.840963</td>\n",
       "    </tr>\n",
       "    <tr>\n",
       "      <th>17</th>\n",
       "      <td>player_A_hand_R</td>\n",
       "      <td>1.086431</td>\n",
       "    </tr>\n",
       "    <tr>\n",
       "      <th>18</th>\n",
       "      <td>player_A_hand_U</td>\n",
       "      <td>1.231936</td>\n",
       "    </tr>\n",
       "    <tr>\n",
       "      <th>19</th>\n",
       "      <td>player_B_entry_Q</td>\n",
       "      <td>6.361201</td>\n",
       "    </tr>\n",
       "    <tr>\n",
       "      <th>20</th>\n",
       "      <td>player_B_entry_R</td>\n",
       "      <td>8.861489</td>\n",
       "    </tr>\n",
       "    <tr>\n",
       "      <th>21</th>\n",
       "      <td>player_B_entry_WC</td>\n",
       "      <td>4.022952</td>\n",
       "    </tr>\n",
       "    <tr>\n",
       "      <th>22</th>\n",
       "      <td>player_B_hand_R</td>\n",
       "      <td>1.080520</td>\n",
       "    </tr>\n",
       "    <tr>\n",
       "      <th>23</th>\n",
       "      <td>player_B_hand_U</td>\n",
       "      <td>1.127488</td>\n",
       "    </tr>\n",
       "    <tr>\n",
       "      <th>24</th>\n",
       "      <td>round_QF</td>\n",
       "      <td>4.629284</td>\n",
       "    </tr>\n",
       "    <tr>\n",
       "      <th>25</th>\n",
       "      <td>round_R128</td>\n",
       "      <td>7.678778</td>\n",
       "    </tr>\n",
       "    <tr>\n",
       "      <th>26</th>\n",
       "      <td>round_R16</td>\n",
       "      <td>7.587947</td>\n",
       "    </tr>\n",
       "    <tr>\n",
       "      <th>27</th>\n",
       "      <td>round_R32</td>\n",
       "      <td>11.292979</td>\n",
       "    </tr>\n",
       "    <tr>\n",
       "      <th>28</th>\n",
       "      <td>round_R64</td>\n",
       "      <td>8.220991</td>\n",
       "    </tr>\n",
       "    <tr>\n",
       "      <th>29</th>\n",
       "      <td>round_RR</td>\n",
       "      <td>8.886465</td>\n",
       "    </tr>\n",
       "    <tr>\n",
       "      <th>30</th>\n",
       "      <td>round_SF</td>\n",
       "      <td>2.810301</td>\n",
       "    </tr>\n",
       "    <tr>\n",
       "      <th>31</th>\n",
       "      <td>best_of_5</td>\n",
       "      <td>4.792736</td>\n",
       "    </tr>\n",
       "  </tbody>\n",
       "</table>\n",
       "</div>"
      ],
      "text/plain": [
       "                features         VIF\n",
       "0                  const  202.146672\n",
       "1        rank_point_diff    2.620076\n",
       "2              rank_diff    2.041575\n",
       "3               age_diff    2.273282\n",
       "4            height_diff    2.399076\n",
       "5   player_B_rank_points    3.494354\n",
       "6          player_B_rank    2.749638\n",
       "7            player_B_ht    2.377515\n",
       "8              draw_size    6.682097\n",
       "9           player_B_age    2.316677\n",
       "10         surface_Grass    1.275795\n",
       "11          surface_Hard    1.205491\n",
       "12       tourney_level_F    1.291331\n",
       "13       tourney_level_M    1.821482\n",
       "14      player_A_entry_Q    7.305665\n",
       "15      player_A_entry_R   10.411041\n",
       "16     player_A_entry_WC    4.840963\n",
       "17       player_A_hand_R    1.086431\n",
       "18       player_A_hand_U    1.231936\n",
       "19      player_B_entry_Q    6.361201\n",
       "20      player_B_entry_R    8.861489\n",
       "21     player_B_entry_WC    4.022952\n",
       "22       player_B_hand_R    1.080520\n",
       "23       player_B_hand_U    1.127488\n",
       "24              round_QF    4.629284\n",
       "25            round_R128    7.678778\n",
       "26             round_R16    7.587947\n",
       "27             round_R32   11.292979\n",
       "28             round_R64    8.220991\n",
       "29              round_RR    8.886465\n",
       "30              round_SF    2.810301\n",
       "31             best_of_5    4.792736"
      ]
     },
     "execution_count": 26,
     "metadata": {},
     "output_type": "execute_result"
    }
   ],
   "source": [
    "X_train_const = add_constant(X_train_combined)\n",
    "vif_df = pd.DataFrame()\n",
    "vif_df[\"features\"] = X_train_const.columns\n",
    "vif_df[\"VIF\"] = [vif(X_train_const.values, i) for i in range(X_train_const.shape[1])]\n",
    "vif_df"
   ]
  },
  {
   "cell_type": "markdown",
   "id": "77f9b53f-df6d-4796-9c35-3ae5a95c7f31",
   "metadata": {},
   "source": [
    "# MVP (Logistic Regression)"
   ]
  },
  {
   "cell_type": "markdown",
   "id": "6069ef7e-5042-4ddc-b7cb-31916c06f3f3",
   "metadata": {
    "execution": {
     "iopub.execute_input": "2025-04-10T10:11:09.245509Z",
     "iopub.status.busy": "2025-04-10T10:11:09.242812Z",
     "iopub.status.idle": "2025-04-10T10:11:09.733079Z",
     "shell.execute_reply": "2025-04-10T10:11:09.731399Z",
     "shell.execute_reply.started": "2025-04-10T10:11:09.245438Z"
    }
   },
   "source": [
    "## CV"
   ]
  },
  {
   "cell_type": "code",
   "execution_count": 27,
   "id": "c324a938-6a18-409a-b0e3-51d3c3b370e2",
   "metadata": {
    "execution": {
     "iopub.execute_input": "2025-04-29T11:51:13.536886Z",
     "iopub.status.busy": "2025-04-29T11:51:13.536390Z",
     "iopub.status.idle": "2025-04-29T11:51:13.725015Z",
     "shell.execute_reply": "2025-04-29T11:51:13.724136Z",
     "shell.execute_reply.started": "2025-04-29T11:51:13.536853Z"
    }
   },
   "outputs": [],
   "source": [
    "# instantiating model\n",
    "log_reg = LogisticRegression(max_iter = 1000)\n",
    "\n",
    "# cross_val\n",
    "cv_results = cross_validate(log_reg, X_train_combined, y_train.squeeze(), cv = 5) # converting df to serie so i don't get the annoying warning"
   ]
  },
  {
   "cell_type": "code",
   "execution_count": 28,
   "id": "4f548451-f3a4-4bdf-a239-5b81c04e26ac",
   "metadata": {
    "execution": {
     "iopub.execute_input": "2025-04-29T11:51:15.282027Z",
     "iopub.status.busy": "2025-04-29T11:51:15.281342Z",
     "iopub.status.idle": "2025-04-29T11:51:15.316675Z",
     "shell.execute_reply": "2025-04-29T11:51:15.313399Z",
     "shell.execute_reply.started": "2025-04-29T11:51:15.281969Z"
    }
   },
   "outputs": [
    {
     "data": {
      "text/plain": [
       "{'fit_time': array([0.04712868, 0.02447367, 0.02275538, 0.02237606, 0.02357674]),\n",
       " 'score_time': array([0.00332499, 0.00328612, 0.00318813, 0.00314951, 0.00316024]),\n",
       " 'test_score': array([0.60705882, 0.66745283, 0.66037736, 0.69575472, 0.62028302])}"
      ]
     },
     "execution_count": 28,
     "metadata": {},
     "output_type": "execute_result"
    }
   ],
   "source": [
    "cv_results"
   ]
  },
  {
   "cell_type": "markdown",
   "id": "ba938650-a4c0-4cc0-9a9d-34353bdce756",
   "metadata": {},
   "source": [
    "## Evaluation with test set"
   ]
  },
  {
   "cell_type": "code",
   "execution_count": 29,
   "id": "ef4162dd-c860-4e7c-8a06-56971c16ec32",
   "metadata": {
    "execution": {
     "iopub.execute_input": "2025-04-29T11:51:22.363046Z",
     "iopub.status.busy": "2025-04-29T11:51:22.362092Z",
     "iopub.status.idle": "2025-04-29T11:51:22.492137Z",
     "shell.execute_reply": "2025-04-29T11:51:22.487305Z",
     "shell.execute_reply.started": "2025-04-29T11:51:22.362983Z"
    }
   },
   "outputs": [
    {
     "data": {
      "text/plain": [
       "0.6677667766776678"
      ]
     },
     "execution_count": 29,
     "metadata": {},
     "output_type": "execute_result"
    }
   ],
   "source": [
    "# instantiating model\n",
    "log_reg = LogisticRegression(max_iter = 1000)\n",
    "\n",
    "# training\n",
    "log_reg.fit(X_train_combined, y_train.squeeze())\n",
    "\n",
    "# evaluating\n",
    "log_reg.score(X_test_combined,y_test)"
   ]
  },
  {
   "cell_type": "markdown",
   "id": "137b0c7c-bb5a-4af9-90f4-e1babd9f8403",
   "metadata": {},
   "source": [
    "## Feature permutation"
   ]
  },
  {
   "cell_type": "code",
   "execution_count": 30,
   "id": "77d87aad-3284-4f7b-94ed-ff6218052705",
   "metadata": {
    "execution": {
     "iopub.execute_input": "2025-04-29T11:51:33.538579Z",
     "iopub.status.busy": "2025-04-29T11:51:33.538031Z",
     "iopub.status.idle": "2025-04-29T11:51:34.921484Z",
     "shell.execute_reply": "2025-04-29T11:51:34.919979Z",
     "shell.execute_reply.started": "2025-04-29T11:51:33.538531Z"
    },
    "scrolled": true
   },
   "outputs": [
    {
     "data": {
      "text/html": [
       "<div>\n",
       "<style scoped>\n",
       "    .dataframe tbody tr th:only-of-type {\n",
       "        vertical-align: middle;\n",
       "    }\n",
       "\n",
       "    .dataframe tbody tr th {\n",
       "        vertical-align: top;\n",
       "    }\n",
       "\n",
       "    .dataframe thead th {\n",
       "        text-align: right;\n",
       "    }\n",
       "</style>\n",
       "<table border=\"1\" class=\"dataframe\">\n",
       "  <thead>\n",
       "    <tr style=\"text-align: right;\">\n",
       "      <th></th>\n",
       "      <th>feature</th>\n",
       "      <th>score decrease</th>\n",
       "    </tr>\n",
       "  </thead>\n",
       "  <tbody>\n",
       "    <tr>\n",
       "      <th>0</th>\n",
       "      <td>rank_point_diff</td>\n",
       "      <td>0.106506</td>\n",
       "    </tr>\n",
       "    <tr>\n",
       "      <th>14</th>\n",
       "      <td>player_A_entry_R</td>\n",
       "      <td>0.030646</td>\n",
       "    </tr>\n",
       "    <tr>\n",
       "      <th>2</th>\n",
       "      <td>age_diff</td>\n",
       "      <td>0.010608</td>\n",
       "    </tr>\n",
       "    <tr>\n",
       "      <th>27</th>\n",
       "      <td>round_R64</td>\n",
       "      <td>0.009288</td>\n",
       "    </tr>\n",
       "    <tr>\n",
       "      <th>1</th>\n",
       "      <td>rank_diff</td>\n",
       "      <td>0.008487</td>\n",
       "    </tr>\n",
       "    <tr>\n",
       "      <th>13</th>\n",
       "      <td>player_A_entry_Q</td>\n",
       "      <td>0.007732</td>\n",
       "    </tr>\n",
       "    <tr>\n",
       "      <th>15</th>\n",
       "      <td>player_A_entry_WC</td>\n",
       "      <td>0.007025</td>\n",
       "    </tr>\n",
       "    <tr>\n",
       "      <th>19</th>\n",
       "      <td>player_B_entry_R</td>\n",
       "      <td>0.006412</td>\n",
       "    </tr>\n",
       "    <tr>\n",
       "      <th>21</th>\n",
       "      <td>player_B_hand_R</td>\n",
       "      <td>0.005941</td>\n",
       "    </tr>\n",
       "    <tr>\n",
       "      <th>5</th>\n",
       "      <td>player_B_rank</td>\n",
       "      <td>0.004998</td>\n",
       "    </tr>\n",
       "    <tr>\n",
       "      <th>28</th>\n",
       "      <td>round_RR</td>\n",
       "      <td>0.00396</td>\n",
       "    </tr>\n",
       "    <tr>\n",
       "      <th>3</th>\n",
       "      <td>height_diff</td>\n",
       "      <td>0.003725</td>\n",
       "    </tr>\n",
       "    <tr>\n",
       "      <th>20</th>\n",
       "      <td>player_B_entry_WC</td>\n",
       "      <td>0.002357</td>\n",
       "    </tr>\n",
       "    <tr>\n",
       "      <th>22</th>\n",
       "      <td>player_B_hand_U</td>\n",
       "      <td>0.002027</td>\n",
       "    </tr>\n",
       "    <tr>\n",
       "      <th>17</th>\n",
       "      <td>player_A_hand_U</td>\n",
       "      <td>0.00165</td>\n",
       "    </tr>\n",
       "    <tr>\n",
       "      <th>18</th>\n",
       "      <td>player_B_entry_Q</td>\n",
       "      <td>0.001414</td>\n",
       "    </tr>\n",
       "    <tr>\n",
       "      <th>9</th>\n",
       "      <td>surface_Grass</td>\n",
       "      <td>0.00132</td>\n",
       "    </tr>\n",
       "    <tr>\n",
       "      <th>25</th>\n",
       "      <td>round_R16</td>\n",
       "      <td>0.00132</td>\n",
       "    </tr>\n",
       "    <tr>\n",
       "      <th>11</th>\n",
       "      <td>tourney_level_F</td>\n",
       "      <td>0.001084</td>\n",
       "    </tr>\n",
       "    <tr>\n",
       "      <th>24</th>\n",
       "      <td>round_R128</td>\n",
       "      <td>0.000896</td>\n",
       "    </tr>\n",
       "    <tr>\n",
       "      <th>30</th>\n",
       "      <td>best_of_5</td>\n",
       "      <td>0.000519</td>\n",
       "    </tr>\n",
       "    <tr>\n",
       "      <th>10</th>\n",
       "      <td>surface_Hard</td>\n",
       "      <td>0.000377</td>\n",
       "    </tr>\n",
       "    <tr>\n",
       "      <th>23</th>\n",
       "      <td>round_QF</td>\n",
       "      <td>0.000094</td>\n",
       "    </tr>\n",
       "    <tr>\n",
       "      <th>8</th>\n",
       "      <td>player_B_age</td>\n",
       "      <td>0.000047</td>\n",
       "    </tr>\n",
       "    <tr>\n",
       "      <th>16</th>\n",
       "      <td>player_A_hand_R</td>\n",
       "      <td>-0.000189</td>\n",
       "    </tr>\n",
       "    <tr>\n",
       "      <th>29</th>\n",
       "      <td>round_SF</td>\n",
       "      <td>-0.000471</td>\n",
       "    </tr>\n",
       "    <tr>\n",
       "      <th>26</th>\n",
       "      <td>round_R32</td>\n",
       "      <td>-0.000802</td>\n",
       "    </tr>\n",
       "    <tr>\n",
       "      <th>12</th>\n",
       "      <td>tourney_level_M</td>\n",
       "      <td>-0.000849</td>\n",
       "    </tr>\n",
       "    <tr>\n",
       "      <th>6</th>\n",
       "      <td>player_B_ht</td>\n",
       "      <td>-0.000849</td>\n",
       "    </tr>\n",
       "    <tr>\n",
       "      <th>4</th>\n",
       "      <td>player_B_rank_points</td>\n",
       "      <td>-0.00099</td>\n",
       "    </tr>\n",
       "    <tr>\n",
       "      <th>7</th>\n",
       "      <td>draw_size</td>\n",
       "      <td>-0.002593</td>\n",
       "    </tr>\n",
       "  </tbody>\n",
       "</table>\n",
       "</div>"
      ],
      "text/plain": [
       "                 feature score decrease\n",
       "0        rank_point_diff       0.106506\n",
       "14      player_A_entry_R       0.030646\n",
       "2               age_diff       0.010608\n",
       "27             round_R64       0.009288\n",
       "1              rank_diff       0.008487\n",
       "13      player_A_entry_Q       0.007732\n",
       "15     player_A_entry_WC       0.007025\n",
       "19      player_B_entry_R       0.006412\n",
       "21       player_B_hand_R       0.005941\n",
       "5          player_B_rank       0.004998\n",
       "28              round_RR        0.00396\n",
       "3            height_diff       0.003725\n",
       "20     player_B_entry_WC       0.002357\n",
       "22       player_B_hand_U       0.002027\n",
       "17       player_A_hand_U        0.00165\n",
       "18      player_B_entry_Q       0.001414\n",
       "9          surface_Grass        0.00132\n",
       "25             round_R16        0.00132\n",
       "11       tourney_level_F       0.001084\n",
       "24            round_R128       0.000896\n",
       "30             best_of_5       0.000519\n",
       "10          surface_Hard       0.000377\n",
       "23              round_QF       0.000094\n",
       "8           player_B_age       0.000047\n",
       "16       player_A_hand_R      -0.000189\n",
       "29              round_SF      -0.000471\n",
       "26             round_R32      -0.000802\n",
       "12       tourney_level_M      -0.000849\n",
       "6            player_B_ht      -0.000849\n",
       "4   player_B_rank_points       -0.00099\n",
       "7              draw_size      -0.002593"
      ]
     },
     "execution_count": 30,
     "metadata": {},
     "output_type": "execute_result"
    }
   ],
   "source": [
    "# performing permutation\n",
    "permutation_score = permutation_importance(log_reg, X_train_combined, y_train, n_repeats=10)\n",
    "\n",
    "# unstacking results showing the decrease in performance after shuffling\n",
    "importance_df = pd.DataFrame(np.vstack((X_train_combined.columns,\n",
    "                                        permutation_score.importances_mean)).T)\n",
    "importance_df.columns=['feature','score decrease']\n",
    "\n",
    "# showing features' importance\n",
    "importance_df.sort_values(by=\"score decrease\", ascending=False)"
   ]
  },
  {
   "cell_type": "markdown",
   "id": "f2fef5c4-fe40-4569-95bc-72a6cb64b64c",
   "metadata": {},
   "source": [
    "# Learning Curves"
   ]
  },
  {
   "cell_type": "code",
   "execution_count": 31,
   "id": "d7f14ba6-3c2f-49c2-92ac-5bf450f9ea6b",
   "metadata": {
    "execution": {
     "iopub.execute_input": "2025-04-29T11:51:49.988018Z",
     "iopub.status.busy": "2025-04-29T11:51:49.987114Z",
     "iopub.status.idle": "2025-04-29T11:51:51.129014Z",
     "shell.execute_reply": "2025-04-29T11:51:51.128087Z",
     "shell.execute_reply.started": "2025-04-29T11:51:49.987979Z"
    }
   },
   "outputs": [],
   "source": [
    "# joining X_train and X_test to feed to the learning curves algorithm\n",
    "X_new = pd.concat([X_train_combined, X_test_combined]).reset_index(drop = True)\n",
    "y_new = pd.concat([y_train, y_test]).reset_index(drop = True)\n",
    "\n",
    "# spliting in train sizes up to 70% of the total data\n",
    "train_sizes = [round(coef*len(X_new)/100) for coef in range(1,72,10)]\n",
    "\n",
    "# getting scores, sizes and test scores\n",
    "train_sizes, train_scores, test_scores = learning_curve(\n",
    "    estimator=LogisticRegression(), X=X_new, y=y_new.squeeze(), train_sizes=train_sizes, cv=5)\n",
    "\n",
    "# means of cv train and test\n",
    "train_scores_mean = np.mean(train_scores, axis=1)\n",
    "test_scores_mean = np.mean(test_scores, axis=1)"
   ]
  },
  {
   "cell_type": "code",
   "execution_count": 32,
   "id": "6dde5481-0dd6-434b-b48d-5cc7d1c52739",
   "metadata": {
    "execution": {
     "iopub.execute_input": "2025-04-29T11:51:51.139096Z",
     "iopub.status.busy": "2025-04-29T11:51:51.132688Z",
     "iopub.status.idle": "2025-04-29T11:51:51.379919Z",
     "shell.execute_reply": "2025-04-29T11:51:51.378606Z",
     "shell.execute_reply.started": "2025-04-29T11:51:51.139042Z"
    }
   },
   "outputs": [
    {
     "data": {
      "text/plain": [
       "<matplotlib.legend.Legend at 0x7f9ce4a448e0>"
      ]
     },
     "execution_count": 32,
     "metadata": {},
     "output_type": "execute_result"
    },
    {
     "data": {
      "image/png": "[encoded data removed]",
      "text/plain": [
       "<Figure size 640x480 with 1 Axes>"
      ]
     },
     "metadata": {},
     "output_type": "display_data"
    }
   ],
   "source": [
    "plt.plot(train_sizes, train_scores_mean, label = 'Training score')\n",
    "plt.plot(train_sizes, test_scores_mean, label = 'Test score')\n",
    "plt.ylabel('Accuracy', fontsize = 14)\n",
    "plt.xlabel('Training set size', fontsize = 14)\n",
    "plt.title('Learning curves', fontsize = 18, y = 1.03)\n",
    "plt.legend()"
   ]
  },
  {
   "cell_type": "markdown",
   "id": "e51b36d6-b837-4930-8bc5-30ce53074157",
   "metadata": {},
   "source": [
    "# Notes"
   ]
  },
  {
   "cell_type": "markdown",
   "id": "009ccd99-494a-4cc8-90c2-99a000d26ad3",
   "metadata": {},
   "source": [
    "**Judging by the results of this Logistic Regression**\n",
    "\n",
    "At least from a linear model's perspective,\n",
    "- Player hand seems to not affect the model too much. However, it is an unbalanced feature and possibly the signal it creates might not be important enough. *Maybe we should compensate by engineering a same_hand feature, instead of what we have now*.\n",
    "- Round and entry, as well as draw size, and tourney level seem to not be important from a linear model's perspective.\n",
    "\n",
    "The learning curves converge, but they converge quite low so we have some underfitting. This points towards using more data, which we have an abundance of, creating more features like player statistics or changing the model."
   ]
  },
  {
   "cell_type": "code",
   "execution_count": null,
   "id": "0e06e609-0cd2-4882-9f85-0b6ee0720dbb",
   "metadata": {},
   "outputs": [],
   "source": []
  }
 ],
 "metadata": {
  "kernelspec": {
   "display_name": "Python (Tennis_Predictor)",
   "language": "python",
   "name": "tennis_predictor"
  },
  "language_info": {
   "codemirror_mode": {
    "name": "ipython",
    "version": 3
   },
   "file_extension": ".py",
   "mimetype": "text/x-python",
   "name": "python",
   "nbconvert_exporter": "python",
   "pygments_lexer": "ipython3",
   "version": "3.10.6"
  }
 },
 "nbformat": 4,
 "nbformat_minor": 5
}
